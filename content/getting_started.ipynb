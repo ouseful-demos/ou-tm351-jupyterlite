{
  "metadata": {
    "kernelspec": {
      "name": "python",
      "display_name": "Python (Pyodide)",
      "language": "python"
    },
    "language_info": {
      "codemirror_mode": {
        "name": "python",
        "version": 3
      },
      "file_extension": ".py",
      "mimetype": "text/x-python",
      "name": "python",
      "nbconvert_exporter": "python",
      "pygments_lexer": "ipython3",
      "version": "3.8"
    }
  },
  "nbformat_minor": 4,
  "nbformat": 4,
  "cells": [
    {
      "cell_type": "markdown",
      "source": "# Getting started with Jupyter Notebooks\n\nJupyter notebooks are interactive documents that combine editable \"content\" cells, which may contain structured content written using markdown formatted text, executable \"code\" cells and executed code cell outputs within a single document.\n\nNotebook code is executed against a notebook kernel. In OU VCEs, notebook kernels are typically provided by self-contained, pre-configured language environments that contain all the required packages necessary for running the module's coding activities.\n Notebooks",
      "metadata": {}
    },
    {
      "cell_type": "markdown",
      "source": "## Managing notebooks\n\nNotebooks can be created fromn the JupyterLab *Launcher* menu, from the main `File > New > Notebook` menu, or by right-clicking in the file browser and selecting `New Notebook` from the pop-up menu.\n\nBy default, files are created with a default `UntitledN.ipynb` filename. Notebook files can be renamed by right-clicking on the file in the file browser and selecting `Rename`, or clicikg on the filename in the JupyterLab notebook and selecting `Rename Notebook...` from the pop-up menu,",
      "metadata": {}
    },
    {
      "cell_type": "markdown",
      "source": "## Notebook code kernels\n\nWhen a notebook is started, a process is started within a prgoramming language kernel environment.\n\nIn TM351, you will be using notebooks with a {{kernel_language}} language kernel.\n\nAs long as the kernel is running (or is hibernated if you hibernate your computer), the values of any variables set within that process will be persisted. That is, the current process *state* will be preserved.\n\nTo reset the kernel to an initial empty state, click the notebook toolbar restart button (&#8635;), or select the menu item `Kernel > Restart Kernel`.",
      "metadata": {}
    },
    {
      "cell_type": "markdown",
      "source": "## Working with code cells\n\nA new Jupyter notebook is created with a single code cell as a default.\n\nClick in the cell to select and edit it, and then run the cell and move on to the next cell either by the keyboard command — `shift-Enter` — or by clicking the play button (&#9205;) in the notebook toolbar.\n\nOn running a code cell, outputs from any `print()` or `display()` statements, as well as the value of any object returned from the last executable code line, will be displayed as code cell output.",
      "metadata": {}
    },
    {
      "cell_type": "code",
      "source": "a = \"an object's return value\"\nprint(f\"Printing an {a}\")\ndisplay(f\"Displaying an {a}\")\na\n# Comments do not affect the value returned from the last executed line of code",
      "metadata": {
        "trusted": true
      },
      "outputs": [],
      "execution_count": null
    },
    {
      "cell_type": "markdown",
      "source": "You can clear an individual cell's output by right-clicking on the cell and selecting `Clear Cell Output` from the pop-up menu. Clear the output on all cells by selecting `Clear Outputs of All Cells`.\n\nIf your program code \"hangs\" when you try to run it, you can stop the code execution by clicking the stop button (&#9209;) in the notebook toolbar or from the `Kernel > Interrupt Kernel` menu option.",
      "metadata": {}
    },
    {
      "cell_type": "markdown",
      "source": "### Code cell execution status indicators\n\nThe [`jupyterlab_cell_status_extension`](https://github.com/innovationOUtside/jupyterlab_cell_status_extension) provides visual and/or audible indications of the cell run status. The visual indications highlight a successfully run cell, a run cell that resulted in an error and a queued/currently running cell. An optional animated \"cell flash\" effect highlights a code cell that has just completed execution.\n\nRun the following cells to see the various cell status indicator states:",
      "metadata": {}
    },
    {
      "cell_type": "code",
      "source": "# A code cell that will quickly return a successful completion",
      "metadata": {
        "trusted": true
      },
      "outputs": [],
      "execution_count": null
    },
    {
      "cell_type": "code",
      "source": "# A code cell that will return a broken status\nbroken",
      "metadata": {
        "trusted": true
      },
      "outputs": [],
      "execution_count": null
    },
    {
      "cell_type": "code",
      "source": "# A code cell that will show a busy / waiting status for a bit...\nimport time\ntime.sleep(3)",
      "metadata": {
        "trusted": true
      },
      "outputs": [],
      "execution_count": null
    },
    {
      "cell_type": "markdown",
      "source": "This extension also supports a range of audible alerts that signal successful or unsuccessful cell execution, as well as spoken error messages. See the `jupyterlab_cell_status_extension` settings in the `Settings > Settings Editor`.",
      "metadata": {}
    },
    {
      "cell_type": "markdown",
      "source": "## Working with Markdown cells\n\nWhen a cell is run, a new code cell is created beneath it by default. You can change a code cell to a markdown cell using the keyboard shortcut `ESC-M` or by changing the cell type from *Code* to *Markdown* in the notebook toolbar.\n\nIn edit mode, you can write markup text using the simple Markdown language. Your VCE may also support use of richer *Myst* markdown syntax.",
      "metadata": {}
    },
    {
      "cell_type": "markdown",
      "source": "### Simple Markdown syntax\n\nMarkdown is a simple text based mark-up language for writing richly formatted text, using simple text conventions to identify the formatting you want to apply to the text.\n\nFor example:\n\n- *italicised text* is identified by wrapping the text in `*` characters: `apply some *emphasis*`;\n- __strong__ or __bold__ format can be applied by using a double underscores to wrap the text: `apply __strong__ emphasis`;\n- we can also __*combine the two*__: `apply __*combined strong and emphasis*__ markup`.\n\nList items can be created by prefixing each line item with a `-` at the start of the line. Sublist items can be created indenting a list item.\n\nHeaders can be included in a markdown cell by prefixing text with one or more `#` signs, correspinding to the cell heading level (for example, `## A level 2 heading`). If a markdown cell starts with a heading, a collapsible cell indicator will be displayed in the rendered cell view that allows you to collapse all cells underneath that heading cell up to the next markdown cell that starts with the same or higher level heading.\n\nThe Jupyter markdown editor will preview the styling that will be applied by the use of markdown tags, where possible.\n\nIn markdown cell edit mode, markdown text and code comments are also passed through a spell-checker that highlights words that contain spelling errors.\n\nYou can view the rendered form of a markdown cell by \"running\" it in the same way that you would run a code cell, using `SHIFT-ENTER`, or from clicking the notebook play button.\n\nDouble click on a rendered markdown cell to return it to the edit mode.",
      "metadata": {}
    },
    {
      "cell_type": "markdown",
      "source": "#### Inline code and code blocks\n\nYou can use `inline code style` by wrapping the text in single backticks: `` here is some `inline code` ``.\n\nYou can also include richly formatted code blocks:\n\n```python\n# Here is some Python code\ndef my_function(message):\n    \"\"\" A hello world function.\"\"\"\n    print(f\"The message is: {message}\")\n```\n\nWrapping code in triple backtick code fences and identify the language sensitive code styling styling you want to apply (for example, `python`, `R`, `bash`, `text`):\n",
      "metadata": {}
    },
    {
      "cell_type": "markdown",
      "source": "\n#### Mathematical notation\n\nYou can use `LaTeX` style syntax to describe and render mathematical equations.\n\nFor inline expressions, such as $E = mc^2$, wrap the notation in single `$` characters: `$E = mc^2$`.\n\nFor block expressions:\n\n$$\n\\int_0^\\infty e^{-x^2} dx = \\frac{\\sqrt{\\pi}}{2}\n$$\n\nwrap the code using `$$` fences:\n\n```text\n$$\n\\int_0^\\infty e^{-x^2} dx = \\frac{\\sqrt{\\pi}}{2}\n$$\n```",
      "metadata": {}
    },
    {
      "cell_type": "markdown",
      "source": "Jupyter notebook markdown cells also support text generated diagrams using [mermaid.js](https://mermaid.js.org/intro/) scripts:\n\n`````text\n```mermaid\n\ngraph LR;\n    A-->B;\n    A-->C;\n    B-->D;\n    C-->D;\n    D-->E;\n```\n`````\n\nThe rendered cell then displays the corresponding mermaid rendered image, {numref}`jl_mermaid`:\n\n```mermaid\n\ngraph LR;\n    A-->B;\n    A-->C;\n    B-->D;\n    C-->D;\n    D-->E;\n```\n\nBeing able to *write* diagram descriptions within a markdown cell that are then automatically rendered provides an accessible, text-based way for creating (and editing) diagrams. It removes the need for graphical image editors and can simplify the process of diagram creation. Access to the raw \"source code\" of the diagram also allows tutors to modify or extend diagrams, as well as easily create and share their own diagrams back with students. See the [`mermaid.js` documentation](https://mermaid.js.org/intro/) for a full description of available diagram types.",
      "metadata": {}
    },
    {
      "cell_type": "markdown",
      "source": "### Rich MyST syntax\n\nAs well as simple MyST syntax, support is also provided in markdown cells for enriched MyST flavoured markdown syntax [[docs](https://mystmd.org/guide/quickstart-jupyter-lab-myst)].\n\nFor example, a warning block:\n\n```{warning}\nThis is a warning block.\n```\n\nOther blocks include `danger` (red header bar), `note` (blue), `seealso` (lilac), `important` (light grey-green) and `tip` (light green). The header bars also carry distinguishing leading icons. Using the `{admonition} My Title` style block, a title can be added to the block and the can be styled using the appropriate admonition type set as a `:class:` value.\n\n```{admonition} Take this as a warning!\n:class: warning\n\nThis is a warning block.\n```",
      "metadata": {}
    },
    {
      "cell_type": "markdown",
      "source": "## Coloured cell backgrounds\n\nMany of the notebooks used in OU modules used coloured cell backgrounds to indicate different types of content within a notebook, using four thematically coloured background cells. Cell backgrounds are persistent and are toggled from notebook toolbar buttons.\n\n- *activity* (blue): cells that describe activities or exercises;\n- *learner* (yellow): cells that students are expected to modify as part of their learning or assessment.;\n- *tutor* (pink): important information, or text added as feedback by a tutor on assessed material;\n- *solution/success* (green): used to indicate a worked solution or successful outcome.",
      "metadata": {}
    },
    {
      "cell_type": "markdown",
      "source": "An activity markdown cell",
      "metadata": {
        "tags": [
          "style-activity"
        ]
      }
    },
    {
      "cell_type": "code",
      "source": "# A learner code cell",
      "metadata": {
        "trusted": true,
        "tags": [
          "style-learner"
        ]
      },
      "outputs": [],
      "execution_count": null
    },
    {
      "cell_type": "markdown",
      "source": "The toggle buttons can be individually enabled / disabled; the colours applied to each cell type are also user customisable via the `jupyterlab_empinken_extension` settings in the `Settings > Settings Editor`.",
      "metadata": {}
    },
    {
      "cell_type": "markdown",
      "source": "## Navigating notebooks\n\nThe Jupyter environments provide a dynamically generated table of contents listing for a selected notebook from the left hand sidebar palette.\n\nThe table of contents offers two main benefits:\n\n- it provides an overview of the whole document and signposts key, headed elements within it;\n\n- it provides an effective way of navigating to different parts of the document.",
      "metadata": {}
    }
  ]
}