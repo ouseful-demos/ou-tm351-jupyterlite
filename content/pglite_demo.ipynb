{
  "metadata": {
    "kernelspec": {
      "name": "python",
      "display_name": "Python (Pyodide)",
      "language": "python"
    },
    "language_info": {
      "codemirror_mode": {
        "name": "python",
        "version": 3
      },
      "file_extension": ".py",
      "mimetype": "text/x-python",
      "name": "python",
      "nbconvert_exporter": "python",
      "pygments_lexer": "ipython3",
      "version": "3.8"
    }
  },
  "nbformat_minor": 4,
  "nbformat": 4,
  "cells": [
    {
      "cell_type": "markdown",
      "source": "# `jupyter_anywidget_pglite`\n\nExample of `jupyter_anywidget_pglite` — run queiries on single user PostgreSQL database using pglite wasm package.\n\n*Runs in `pyodide` kernel.*",
      "metadata": {}
    },
    {
      "cell_type": "code",
      "source": "%pip install jupyter_anywidget_pglite\n%pip install pandas",
      "metadata": {
        "trusted": true,
        "execution": {
          "iopub.status.busy": "2024-09-11T13:00:55.078Z",
          "iopub.execute_input": "2024-09-11T13:00:55.079Z",
          "iopub.status.idle": "2024-09-11T13:00:56.851Z",
          "shell.execute_reply": "2024-09-11T13:00:56.850Z"
        }
      },
      "outputs": [],
      "execution_count": 4
    },
    {
      "cell_type": "code",
      "source": "%load_ext jupyter_anywidget_pglite",
      "metadata": {
        "trusted": true,
        "execution": {
          "iopub.status.busy": "2024-09-11T13:00:57.765Z",
          "iopub.execute_input": "2024-09-11T13:00:57.765Z",
          "iopub.status.idle": "2024-09-11T13:00:59.432Z",
          "shell.execute_reply": "2024-09-11T13:00:59.432Z"
        }
      },
      "outputs": [],
      "execution_count": 5
    },
    {
      "cell_type": "code",
      "source": "from jupyter_anywidget_pglite import pglite_headless\npg = pglite_headless()",
      "metadata": {
        "trusted": true
      },
      "outputs": [],
      "execution_count": null
    },
    {
      "cell_type": "markdown",
      "source": "Currently, we can only run one SQL query per cell.",
      "metadata": {}
    },
    {
      "cell_type": "code",
      "source": "%%pglite_magic pg\nCREATE TABLE IF NOT EXISTS test  (\n        id serial primary key,\n        title varchar not null\n      );",
      "metadata": {
        "trusted": true,
        "execution": {
          "iopub.status.busy": "2024-09-11T11:49:51.760Z",
          "iopub.execute_input": "2024-09-11T11:49:51.761Z",
          "iopub.status.idle": "2024-09-11T11:49:51.843Z",
          "shell.execute_reply": "2024-09-11T11:49:51.843Z"
        }
      },
      "outputs": [],
      "execution_count": 16
    },
    {
      "cell_type": "code",
      "source": "%%pglite_magic pg\nINSERT INTO test (title) VALUES ('dummy');",
      "metadata": {
        "trusted": true,
        "execution": {
          "iopub.status.busy": "2024-09-11T11:49:52.356Z",
          "iopub.execute_input": "2024-09-11T11:49:52.356Z",
          "iopub.status.idle": "2024-09-11T11:49:52.364Z",
          "shell.execute_reply": "2024-09-11T11:49:52.364Z"
        }
      },
      "outputs": [],
      "execution_count": 17
    },
    {
      "cell_type": "code",
      "source": "%%pglite_magic pg\nINSERT INTO test (title) VALUES ('dummy2');",
      "metadata": {
        "trusted": true,
        "execution": {
          "iopub.status.busy": "2024-09-11T11:50:40.522Z",
          "iopub.execute_input": "2024-09-11T11:50:40.522Z",
          "iopub.status.idle": "2024-09-11T11:50:40.530Z",
          "shell.execute_reply": "2024-09-11T11:50:40.530Z"
        }
      },
      "outputs": [],
      "execution_count": 27
    },
    {
      "cell_type": "code",
      "source": "%%pglite_magic pg\nSELECT * FROM test;",
      "metadata": {
        "trusted": true,
        "execution": {
          "iopub.status.busy": "2024-09-11T11:50:33.719Z",
          "iopub.execute_input": "2024-09-11T11:50:33.719Z",
          "iopub.status.idle": "2024-09-11T11:50:33.727Z",
          "shell.execute_reply": "2024-09-11T11:50:33.727Z"
        }
      },
      "outputs": [],
      "execution_count": 25
    },
    {
      "cell_type": "code",
      "source": "pg.df()",
      "metadata": {
        "trusted": true,
        "execution": {
          "iopub.status.busy": "2024-09-11T11:50:34.376Z",
          "iopub.execute_input": "2024-09-11T11:50:34.376Z",
          "iopub.status.idle": "2024-09-11T11:50:34.392Z",
          "shell.execute_reply": "2024-09-11T11:50:34.392Z"
        }
      },
      "outputs": [
        {
          "execution_count": 26,
          "output_type": "execute_result",
          "data": {
            "text/plain": "     title\nid        \n1    dummy\n2    dummy\n3   dummy2",
            "text/html": "<div>\n<style scoped>\n    .dataframe tbody tr th:only-of-type {\n        vertical-align: middle;\n    }\n\n    .dataframe tbody tr th {\n        vertical-align: top;\n    }\n\n    .dataframe thead th {\n        text-align: right;\n    }\n</style>\n<table border=\"1\" class=\"dataframe\">\n  <thead>\n    <tr style=\"text-align: right;\">\n      <th></th>\n      <th>title</th>\n    </tr>\n    <tr>\n      <th>id</th>\n      <th></th>\n    </tr>\n  </thead>\n  <tbody>\n    <tr>\n      <th>1</th>\n      <td>dummy</td>\n    </tr>\n    <tr>\n      <th>2</th>\n      <td>dummy</td>\n    </tr>\n    <tr>\n      <th>3</th>\n      <td>dummy2</td>\n    </tr>\n  </tbody>\n</table>\n</div>"
          },
          "metadata": {}
        }
      ],
      "execution_count": 26
    },
    {
      "cell_type": "code",
      "source": "",
      "metadata": {
        "trusted": true
      },
      "outputs": [],
      "execution_count": null
    }
  ]
}