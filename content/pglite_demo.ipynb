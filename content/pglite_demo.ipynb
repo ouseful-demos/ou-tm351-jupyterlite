{
  "metadata": {
    "kernelspec": {
      "name": "python",
      "display_name": "Python (Pyodide)",
      "language": "python"
    },
    "language_info": {
      "codemirror_mode": {
        "name": "python",
        "version": 3
      },
      "file_extension": ".py",
      "mimetype": "text/x-python",
      "name": "python",
      "nbconvert_exporter": "python",
      "pygments_lexer": "ipython3",
      "version": "3.8"
    }
  },
  "nbformat_minor": 4,
  "nbformat": 4,
  "cells": [
    {
      "cell_type": "markdown",
      "source": "# `jupyter_anywidget_pglite`\n\nExample of `jupyter_anywidget_pglite` — run queiries on single user PostgreSQL database using pglite wasm package.\n\n*Runs in `pyodide` kernel.*",
      "metadata": {}
    },
    {
      "cell_type": "code",
      "source": "%pip install jupyter_anywidget_pglite\n%pip install pandas",
      "metadata": {
        "trusted": true
      },
      "outputs": [],
      "execution_count": 20
    },
    {
      "cell_type": "code",
      "source": "%load_ext jupyter_anywidget_pglite",
      "metadata": {
        "trusted": true
      },
      "outputs": [
        {
          "name": "stdout",
          "text": "The jupyter_anywidget_pglite extension is already loaded. To reload it, use:\n  %reload_ext jupyter_anywidget_pglite\n",
          "output_type": "stream"
        }
      ],
      "execution_count": 21
    },
    {
      "cell_type": "code",
      "source": "from jupyter_anywidget_pglite import pglite_inline\npg = pglite_inline()",
      "metadata": {
        "trusted": true
      },
      "outputs": [
        {
          "output_type": "display_data",
          "data": {
            "text/plain": "postgresWidget(response={'status': 'initialising'})",
            "application/vnd.jupyter.widget-view+json": {
              "version_major": 2,
              "version_minor": 1,
              "model_id": "4d85166588cd46ab9334baf12341a288"
            }
          },
          "metadata": {}
        }
      ],
      "execution_count": 27
    },
    {
      "cell_type": "markdown",
      "source": "Currently, we can only run one SQL query per cell.",
      "metadata": {}
    },
    {
      "cell_type": "code",
      "source": "%%pglite_magic -w pg\nCREATE TABLE IF NOT EXISTS test  (\n        id serial primary key,\n        title varchar not null\n      );",
      "metadata": {
        "trusted": true
      },
      "outputs": [],
      "execution_count": 28
    },
    {
      "cell_type": "code",
      "source": "%%pglite_magic\nINSERT INTO test (title) VALUES ('dummy');",
      "metadata": {
        "trusted": true
      },
      "outputs": [],
      "execution_count": 29
    },
    {
      "cell_type": "code",
      "source": "%%pglite_magic\nINSERT INTO test (title) VALUES ('dummy2');",
      "metadata": {
        "trusted": true
      },
      "outputs": [],
      "execution_count": 8
    },
    {
      "cell_type": "code",
      "source": "%%pglite_magic\nSELECT * FROM test;",
      "metadata": {
        "trusted": true
      },
      "outputs": [],
      "execution_count": 30
    },
    {
      "cell_type": "code",
      "source": "pg.response",
      "metadata": {
        "trusted": true
      },
      "outputs": [
        {
          "execution_count": 31,
          "output_type": "execute_result",
          "data": {
            "text/plain": "{'status': 'completed',\n 'response': {'rows': [{'id': 1, 'title': 'dummy'}],\n  'fields': [{'name': 'id', 'dataTypeID': 23},\n   {'name': 'title', 'dataTypeID': 1043}],\n  'affectedRows': 0},\n 'response_type': 'single'}"
          },
          "metadata": {}
        }
      ],
      "execution_count": 31
    },
    {
      "cell_type": "code",
      "source": "pg.df()",
      "metadata": {
        "trusted": true
      },
      "outputs": [
        {
          "execution_count": 33,
          "output_type": "execute_result",
          "data": {
            "text/plain": "    title\nid       \n1   dummy",
            "text/html": "<div>\n<style scoped>\n    .dataframe tbody tr th:only-of-type {\n        vertical-align: middle;\n    }\n\n    .dataframe tbody tr th {\n        vertical-align: top;\n    }\n\n    .dataframe thead th {\n        text-align: right;\n    }\n</style>\n<table border=\"1\" class=\"dataframe\">\n  <thead>\n    <tr style=\"text-align: right;\">\n      <th></th>\n      <th>title</th>\n    </tr>\n    <tr>\n      <th>id</th>\n      <th></th>\n    </tr>\n  </thead>\n  <tbody>\n    <tr>\n      <th>1</th>\n      <td>dummy</td>\n    </tr>\n  </tbody>\n</table>\n</div>"
          },
          "metadata": {}
        }
      ],
      "execution_count": 33
    },
    {
      "cell_type": "code",
      "source": "",
      "metadata": {
        "trusted": true
      },
      "outputs": [],
      "execution_count": null
    }
  ]
}