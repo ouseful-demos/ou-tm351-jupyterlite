{
  "metadata": {
    "kernelspec": {
      "name": "python",
      "display_name": "Python (Pyodide)",
      "language": "python"
    },
    "language_info": {
      "codemirror_mode": {
        "name": "python",
        "version": 3
      },
      "file_extension": ".py",
      "mimetype": "text/x-python",
      "name": "python",
      "nbconvert_exporter": "python",
      "pygments_lexer": "ipython3",
      "version": "3.8"
    }
  },
  "nbformat_minor": 4,
  "nbformat": 4,
  "cells": [
    {
      "cell_type": "markdown",
      "source": "# `jupyter_anywidget_pglite`\n\nExample of `jupyter_anywidget_pglite` — run queiries on single user PostgreSQL database using pglite wasm package.\n\n*Runs in `pyodide` kernel.*",
      "metadata": {}
    },
    {
      "cell_type": "code",
      "source": "%pip install jupyter_anywidget_pglite\n%pip install pandas",
      "metadata": {
        "trusted": true
      },
      "outputs": [],
      "execution_count": 1
    },
    {
      "cell_type": "code",
      "source": "%load_ext jupyter_anywidget_pglite",
      "metadata": {
        "trusted": true
      },
      "outputs": [],
      "execution_count": 2
    },
    {
      "cell_type": "code",
      "source": "from jupyter_anywidget_pglite import pglite_headless\npg = pglite_headless()",
      "metadata": {
        "trusted": true
      },
      "outputs": [
        {
          "output_type": "display_data",
          "data": {
            "text/plain": "postgresWidget(headless=True, response={'status': 'initialising'})",
            "application/vnd.jupyter.widget-view+json": {
              "version_major": 2,
              "version_minor": 1,
              "model_id": "78da129c7e40421f993ec79d50531c2e"
            }
          },
          "metadata": {}
        }
      ],
      "execution_count": 3
    },
    {
      "cell_type": "markdown",
      "source": "Currently, we can only run one SQL query per cell.",
      "metadata": {}
    },
    {
      "cell_type": "code",
      "source": "%%pglite_magic -w pg\nCREATE TABLE IF NOT EXISTS test  (\n        id serial primary key,\n        title varchar not null\n      );",
      "metadata": {
        "trusted": true
      },
      "outputs": [],
      "execution_count": 5
    },
    {
      "cell_type": "code",
      "source": "%%pglite_magic\nINSERT INTO test (title) VALUES ('dummy');",
      "metadata": {
        "trusted": true
      },
      "outputs": [],
      "execution_count": 6
    },
    {
      "cell_type": "code",
      "source": "%%pglite_magic\nINSERT INTO test (title) VALUES ('dummy2');",
      "metadata": {
        "trusted": true
      },
      "outputs": [],
      "execution_count": 8
    },
    {
      "cell_type": "code",
      "source": "%%pglite_magic\nSELECT * FROM test;",
      "metadata": {
        "trusted": true
      },
      "outputs": [],
      "execution_count": 16
    },
    {
      "cell_type": "code",
      "source": "pg.response",
      "metadata": {
        "trusted": true
      },
      "outputs": [
        {
          "execution_count": 19,
          "output_type": "execute_result",
          "data": {
            "text/plain": "{'status': 'processing'}"
          },
          "metadata": {}
        }
      ],
      "execution_count": 19
    },
    {
      "cell_type": "code",
      "source": "",
      "metadata": {
        "trusted": true
      },
      "outputs": [],
      "execution_count": null
    }
  ]
}