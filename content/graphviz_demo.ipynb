{
  "metadata": {
    "kernelspec": {
      "name": "python",
      "display_name": "Python (Pyodide)",
      "language": "python"
    },
    "language_info": {
      "codemirror_mode": {
        "name": "python",
        "version": 3
      },
      "file_extension": ".py",
      "mimetype": "text/x-python",
      "name": "python",
      "nbconvert_exporter": "python",
      "pygments_lexer": "ipython3",
      "version": "3.8"
    }
  },
  "nbformat_minor": 4,
  "nbformat": 4,
  "cells": [
    {
      "cell_type": "markdown",
      "source": "# `jupyter_anywidget_graphviz`\n\nExample of `jupyter_anywidget_graphviz` — generate SVG vector graphics from `.dot` scripts using graphviz wasm package.\n\n*Runs in `pyodide` kernel.*",
      "metadata": {}
    },
    {
      "cell_type": "code",
      "source": "# Currently, sidecar is a requirement even if we aren't using it..\n%pip install jupyter_anywidget_graphviz\n%pip install sidecar",
      "metadata": {
        "trusted": true
      },
      "outputs": [],
      "execution_count": 4
    },
    {
      "cell_type": "code",
      "source": "%load_ext jupyter_anywidget_graphviz",
      "metadata": {
        "trusted": true
      },
      "outputs": [],
      "execution_count": 5
    },
    {
      "cell_type": "code",
      "source": "from jupyter_anywidget_graphviz import graphviz_headless\n\n# Create a headless widget\n# - works in: Jupyter Lab, Jupyter Notebook, VS Code\ng = graphviz_headless()\n\n",
      "metadata": {
        "trusted": true
      },
      "outputs": [
        {
          "output_type": "display_data",
          "data": {
            "text/plain": "graphvizWidget(headless=True)",
            "application/vnd.jupyter.widget-view+json": {
              "version_major": 2,
              "version_minor": 1,
              "model_id": "d9d07fe891934a3f835b058911920f76"
            }
          },
          "metadata": {}
        }
      ],
      "execution_count": 7
    },
    {
      "cell_type": "code",
      "source": "%%graphviz_magic -w g\n  strict graph {\n    a -- b\n    a -- b\n    b -- a [color=blue]\n  }",
      "metadata": {
        "trusted": true
      },
      "outputs": [],
      "execution_count": 9
    },
    {
      "cell_type": "code",
      "source": "from IPython.display import SVG\n\nSVG(g.svg)",
      "metadata": {
        "trusted": true
      },
      "outputs": [
        {
          "execution_count": 10,
          "output_type": "execute_result",
          "data": {
            "text/plain": "<IPython.core.display.SVG object>",
            "image/svg+xml": "<svg xmlns=\"http://www.w3.org/2000/svg\" xmlns:xlink=\"http://www.w3.org/1999/xlink\" width=\"62pt\" height=\"116pt\" viewBox=\"0.00 0.00 62.00 116.00\">\n<g id=\"graph0\" class=\"graph\" transform=\"scale(1 1) rotate(0) translate(4 112)\">\n<polygon fill=\"white\" stroke=\"none\" points=\"-4,4 -4,-112 58,-112 58,4 -4,4\"/>\n<!-- a -->\n<g id=\"node1\" class=\"node\">\n<title>a</title>\n<ellipse fill=\"none\" stroke=\"black\" cx=\"27\" cy=\"-90\" rx=\"27\" ry=\"18\"/>\n<text text-anchor=\"middle\" x=\"27\" y=\"-85.8\" font-family=\"Times,serif\" font-size=\"14.00\">a</text>\n</g>\n<!-- b -->\n<g id=\"node2\" class=\"node\">\n<title>b</title>\n<ellipse fill=\"none\" stroke=\"black\" cx=\"27\" cy=\"-18\" rx=\"27\" ry=\"18\"/>\n<text text-anchor=\"middle\" x=\"27\" y=\"-13.8\" font-family=\"Times,serif\" font-size=\"14.00\">b</text>\n</g>\n<!-- a&#45;&#45;b -->\n<g id=\"edge1\" class=\"edge\">\n<title>a--b</title>\n<path fill=\"none\" stroke=\"blue\" d=\"M27,-71.7C27,-60.85 27,-46.92 27,-36.1\"/>\n</g>\n</g>\n</svg>"
          },
          "metadata": {}
        }
      ],
      "execution_count": 10
    },
    {
      "cell_type": "code",
      "source": "",
      "metadata": {
        "trusted": true
      },
      "outputs": [],
      "execution_count": null
    }
  ]
}