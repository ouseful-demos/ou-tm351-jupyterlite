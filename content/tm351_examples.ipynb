{
  "metadata": {
    "kernelspec": {
      "name": "xpython",
      "display_name": "Python 3.11 (XPython)",
      "language": "python"
    },
    "language_info": {
      "file_extension": ".py",
      "mimetype": "text/x-python",
      "name": "python",
      "version": "3.11.3"
    }
  },
  "nbformat_minor": 5,
  "nbformat": 4,
  "cells": [
    {
      "id": "b7413b65-8212-455d-bf92-1663339cd70a",
      "cell_type": "markdown",
      "source": "# Examples\n\nThis notebook demonstrates a subset of the features provided by the [TM351 notebook enviromment](https://innovationoutside.github.io/ou-tm351-jl-extensions/overview.html) using JupyterLite, a distribution of JupyterLab and Jupyter notebook v7 that runs purely in the browser and that can also be [embedded within the OU VLE](https://opencomputinglab.github.io/jupyterlite_in_moodle_vle/) as an `HTML5.zip` bundled activity.",
      "metadata": {}
    },
    {
      "id": "83e1d117-f175-4b94-9934-77a9c2990ab8",
      "cell_type": "markdown",
      "source": "## `empinken` Styling\n\nMarkdown and code cells can be styled using the [`jupyterlab_empinken_extension`](https://github.com/innovationOUtside/jupyterlab_empinken_extension/).\nDefault cell colours are settable via the `Settings > Settings Editor > jupyterlab_empinken_extension`.\n\nSelect one or more markdown and/or code cells and use the empinken buttons to set one of four states on the cell with associated background colouring:\n\n![image.png](attachment:0edeeb7c-54f0-492c-ac9c-9ac050e4ddeb.png)\n\n",
      "metadata": {},
      "attachments": {
        "0edeeb7c-54f0-492c-ac9c-9ac050e4ddeb.png": {
          "image/png": "[encoded data removed]"
        }
      }
    },
    {
      "id": "37a07ee6-99ba-421f-a0f6-b05abf0381dd",
      "cell_type": "markdown",
      "source": "- [*book* / `book-open-outline` icon](https://pictogrammers.com/library/mdi/icon/book-open-outline/): \"activity\" [maps to `style-activity` cell tag], by default, a blue background; used to idnetify activity blockls (follows OU VLE theme);",
      "metadata": {
        "tags": [
          "style-activity"
        ]
      }
    },
    {
      "id": "f590aa1f-8721-4578-8939-e091438b804a",
      "cell_type": "code",
      "source": "# Example activity code cell",
      "metadata": {
        "tags": [
          "style-activity"
        ]
      },
      "outputs": [],
      "execution_count": null
    },
    {
      "id": "7ff0a817-cd9d-4ffd-b94b-d27df7bc42e7",
      "cell_type": "markdown",
      "source": "- [*tick* / `check` icon](https://pictogrammers.com/library/mdi/icon/check/): \"solution\" [maps to `style-solution` cell tag], by default, a green background; used to identify solution cells;",
      "metadata": {
        "tags": [
          "style-solution"
        ]
      }
    },
    {
      "id": "4a28c4cd-b517-4670-9861-b3b5b29b17dd",
      "cell_type": "code",
      "source": "# Example solution code cell",
      "metadata": {
        "tags": [
          "style-solution"
        ]
      },
      "outputs": [],
      "execution_count": null
    },
    {
      "id": "f58770ce-6eea-4d1d-a069-aceb76777129",
      "cell_type": "markdown",
      "source": "- [*head/mortarboard* (\"scholar\") / `school-outline` icon](https://pictogrammers.com/library/mdi/icon/school-outline/): \"learner\" [maps to cell tag `style-learner`], by default, a yellow background; used as a nudge to students (\"you should edit / add content to this cell\");\n",
      "metadata": {
        "tags": [
          "style-student"
        ]
      }
    },
    {
      "id": "8ec88452-e1f6-4eda-b3f3-6fb792206311",
      "cell_type": "code",
      "source": "# Example learner / call-to-action code cell",
      "metadata": {
        "tags": [
          "style-student"
        ]
      },
      "outputs": [],
      "execution_count": null
    },
    {
      "id": "b7803b01-8b24-4e2e-bc4c-067d62f14ca8",
      "cell_type": "markdown",
      "source": "- [*quote* / `format-quote-close` icon](https://pictogrammers.com/library/mdi/icon/format-quote-close/): \"tutor\" [maps to cell tag `style-tutor`], by default, a pink background; used by tutors to highlight feedback cells; used by editors/critical readers to highlight feedback cells to authors.\n",
      "metadata": {
        "tags": [
          "style-commentate"
        ]
      }
    },
    {
      "id": "de7fa102-e9ef-4e98-aa6f-2a63d091ec9f",
      "cell_type": "code",
      "source": "# Example tutor / feedback code cell",
      "metadata": {
        "tags": [
          "style-commentate"
        ]
      },
      "outputs": [],
      "execution_count": null
    },
    {
      "id": "b1415e49-bb52-4344-b363-1ee691b0de29",
      "cell_type": "markdown",
      "source": "## Activities\n\nActivities can include hidden solution cells using the notebook `collapisble-headings` feature.\n\nMarkdown cells that start with a heading can collapse all the cells under them until the next head of the same heading level or higher.",
      "metadata": {}
    },
    {
      "id": "36aeb6d0-0355-46df-9a4a-4c8b9e8931f7",
      "cell_type": "markdown",
      "source": "### Activity 1\n\nIn this activity you will do something...",
      "metadata": {
        "tags": [
          "style-activity"
        ]
      }
    },
    {
      "id": "8ac437fa-6abb-4f94-b0b9-6065a18940ac",
      "cell_type": "code",
      "source": "# Write some code here",
      "metadata": {
        "tags": [
          "style-learner"
        ]
      },
      "outputs": [],
      "execution_count": null
    },
    {
      "id": "d1b41944-e698-4b71-8cd6-3356af1be927",
      "cell_type": "markdown",
      "source": "#### Answer\n\nClick to revel the answer",
      "metadata": {
        "tags": [
          "style-activity"
        ],
        "jp-MarkdownHeadingCollapsed": true
      }
    },
    {
      "id": "bbc783c6-f5ff-4a58-8979-b2c0261c18da",
      "cell_type": "markdown",
      "source": "Here is the answer.",
      "metadata": {
        "tags": [
          "style-activity"
        ]
      }
    },
    {
      "id": "295c0c13-f4bd-45e6-b60a-d4cdeb9eafc1",
      "cell_type": "code",
      "source": "print(\"hello world\")",
      "metadata": {
        "tags": [
          "style-activity"
        ]
      },
      "outputs": [],
      "execution_count": null
    },
    {
      "id": "9067131c-58ec-4b40-bbb9-a6b37d6aa96e",
      "cell_type": "markdown",
      "source": "## Cell run status indicator\n\nThe [`jupyterlab_cell_status_extension`](https://github.com/innovationOUtside/jupyterlab_cell_status_extension) provides a visual indication of cell run status, and optional audible warnings.",
      "metadata": {}
    },
    {
      "id": "96ee6166-0f3a-4f1a-950a-cbf23ec9679c",
      "cell_type": "code",
      "source": "# Run this cell  - the cell status indicator should\n# change to green to indicate successful completion",
      "metadata": {},
      "outputs": [],
      "execution_count": null
    },
    {
      "id": "e5ea669b-20bd-4608-a3c5-0675aeed5dd4",
      "cell_type": "code",
      "source": "# Running this cell should indicate the running status (blue)\n# for the five seconds time it takes this cell to execute\nimport time\ntime.sleep(5)",
      "metadata": {},
      "outputs": [],
      "execution_count": null
    },
    {
      "id": "f9fc960b-7ef8-4452-99d7-72c36b33e295",
      "cell_type": "code",
      "source": "# Running this cell should return a pink error status indication\n# along with an audible warning\nBroken cell",
      "metadata": {},
      "outputs": [],
      "execution_count": null
    },
    {
      "id": "8a1cdb24-f260-42b5-bcb8-49fed84e98b8",
      "cell_type": "markdown",
      "source": "The previous cell should also show Python error in a \"collapsed\" mode (via the [`jupyterlab-skip-traceback)`](https://github.com/deshaw/jupyterlab-skip-traceback) extension).",
      "metadata": {}
    },
    {
      "id": "c2c19106-7522-4d06-98d0-9ca81024cfbf",
      "cell_type": "markdown",
      "source": "## Load a preinstalled package\n\nSeveral packages are pre-installed in the kernel, and can be directly imported, including:\n\n- `pandas`\n- `folium` and `ipython-folium-magic`",
      "metadata": {}
    },
    {
      "id": "e15d5849-3bc7-4ef7-8667-569d5f31802d",
      "cell_type": "code",
      "source": "import pandas as pd\n\npd.DataFrame({\"a\":[1,2,3]})",
      "metadata": {
        "trusted": true,
        "execution": {
          "iopub.status.busy": "2024-09-06T14:30:35.287000Z",
          "iopub.execute_input": "2024-09-06T14:30:35.290000Z",
          "iopub.status.idle": "2024-09-06T14:30:38.907000Z",
          "shell.execute_reply.started": "2024-09-06T14:30:38.906000Z",
          "shell.execute_reply": "2024-09-06T14:30:38.907000Z"
        }
      },
      "outputs": [
        {
          "execution_count": 1,
          "output_type": "execute_result",
          "data": {
            "text/html": "<div>\n<style scoped>\n    .dataframe tbody tr th:only-of-type {\n        vertical-align: middle;\n    }\n\n    .dataframe tbody tr th {\n        vertical-align: top;\n    }\n\n    .dataframe thead th {\n        text-align: right;\n    }\n</style>\n<table border=\"1\" class=\"dataframe\">\n  <thead>\n    <tr style=\"text-align: right;\">\n      <th></th>\n      <th>a</th>\n    </tr>\n  </thead>\n  <tbody>\n    <tr>\n      <th>0</th>\n      <td>1</td>\n    </tr>\n    <tr>\n      <th>1</th>\n      <td>2</td>\n    </tr>\n    <tr>\n      <th>2</th>\n      <td>3</td>\n    </tr>\n  </tbody>\n</table>\n</div>",
            "text/plain": "   a\n0  1\n1  2\n2  3"
          },
          "metadata": {}
        }
      ],
      "execution_count": 1
    },
    {
      "id": "0799cfc3-f597-45bb-bcc7-beff1fd38097",
      "cell_type": "code",
      "source": "from jupyter_anywidget_graphviz import create_headless",
      "metadata": {
        "trusted": true,
        "execution": {
          "execution_failed": "2024-09-06T14:56:29.017Z"
        }
      },
      "outputs": [],
      "execution_count": null
    },
    {
      "id": "fe33c325-baac-4261-98f0-cdc445e47f3a",
      "cell_type": "code",
      "source": "%load_ext folium_magic\n%folium_map -l 52.0370037,-0.7098603",
      "metadata": {
        "trusted": true,
        "execution": {
          "iopub.status.busy": "2024-09-06T14:53:05.961000Z",
          "iopub.execute_input": "2024-09-06T14:53:05.975000Z",
          "iopub.status.idle": "2024-09-06T14:53:06.343000Z",
          "shell.execute_reply.started": "2024-09-06T14:53:06.342000Z",
          "shell.execute_reply": "2024-09-06T14:53:06.342000Z"
        }
      },
      "outputs": [
        {
          "execution_count": 6,
          "output_type": "execute_result",
          "data": {
            "text/html": "<div style=\"width:100%;\"><div style=\"position:relative;width:100%;height:0;padding-bottom:60%;\"><span style=\"color:#565656\">Make this Notebook Trusted to load map: File -> Trust Notebook</span><iframe srcdoc=\"&lt;!DOCTYPE html&gt;\n&lt;html&gt;\n&lt;head&gt;\n    \n    &lt;meta http-equiv=&quot;content-type&quot; content=&quot;text/html; charset=UTF-8&quot; /&gt;\n    \n        &lt;script&gt;\n            L_NO_TOUCH = false;\n            L_DISABLE_3D = false;\n        &lt;/script&gt;\n    \n    &lt;style&gt;html, body {width: 100%;height: 100%;margin: 0;padding: 0;}&lt;/style&gt;\n    &lt;style&gt;#map {position:absolute;top:0;bottom:0;right:0;left:0;}&lt;/style&gt;\n    &lt;script src=&quot;https://cdn.jsdelivr.net/npm/leaflet@1.9.3/dist/leaflet.js&quot;&gt;&lt;/script&gt;\n    &lt;script src=&quot;https://code.jquery.com/jquery-3.7.1.min.js&quot;&gt;&lt;/script&gt;\n    &lt;script src=&quot;https://cdn.jsdelivr.net/npm/bootstrap@5.2.2/dist/js/bootstrap.bundle.min.js&quot;&gt;&lt;/script&gt;\n    &lt;script src=&quot;https://cdnjs.cloudflare.com/ajax/libs/Leaflet.awesome-markers/2.0.2/leaflet.awesome-markers.js&quot;&gt;&lt;/script&gt;\n    &lt;link rel=&quot;stylesheet&quot; href=&quot;https://cdn.jsdelivr.net/npm/leaflet@1.9.3/dist/leaflet.css&quot;/&gt;\n    &lt;link rel=&quot;stylesheet&quot; href=&quot;https://cdn.jsdelivr.net/npm/bootstrap@5.2.2/dist/css/bootstrap.min.css&quot;/&gt;\n    &lt;link rel=&quot;stylesheet&quot; href=&quot;https://netdna.bootstrapcdn.com/bootstrap/3.0.0/css/bootstrap-glyphicons.css&quot;/&gt;\n    &lt;link rel=&quot;stylesheet&quot; href=&quot;https://cdn.jsdelivr.net/npm/@fortawesome/fontawesome-free@6.2.0/css/all.min.css&quot;/&gt;\n    &lt;link rel=&quot;stylesheet&quot; href=&quot;https://cdnjs.cloudflare.com/ajax/libs/Leaflet.awesome-markers/2.0.2/leaflet.awesome-markers.css&quot;/&gt;\n    &lt;link rel=&quot;stylesheet&quot; href=&quot;https://cdn.jsdelivr.net/gh/python-visualization/folium/folium/templates/leaflet.awesome.rotate.min.css&quot;/&gt;\n    \n            &lt;meta name=&quot;viewport&quot; content=&quot;width=device-width,\n                initial-scale=1.0, maximum-scale=1.0, user-scalable=no&quot; /&gt;\n            &lt;style&gt;\n                #map_5512e0e77e6f6d41f7d95c771ec91da8 {\n                    position: relative;\n                    width: 100.0%;\n                    height: 100.0%;\n                    left: 0.0%;\n                    top: 0.0%;\n                }\n                .leaflet-container { font-size: 1rem; }\n            &lt;/style&gt;\n        \n&lt;/head&gt;\n&lt;body&gt;\n    \n    \n            &lt;div class=&quot;folium-map&quot; id=&quot;map_5512e0e77e6f6d41f7d95c771ec91da8&quot; &gt;&lt;/div&gt;\n        \n&lt;/body&gt;\n&lt;script&gt;\n    \n    \n            var map_5512e0e77e6f6d41f7d95c771ec91da8 = L.map(\n                &quot;map_5512e0e77e6f6d41f7d95c771ec91da8&quot;,\n                {\n                    center: [52.0370037, -0.7098603],\n                    crs: L.CRS.EPSG3857,\n                    zoom: 10,\n                    zoomControl: true,\n                    preferCanvas: false,\n                }\n            );\n\n            \n\n        \n    \n            var tile_layer_807e2088a21139d7ec49b03f1efcb658 = L.tileLayer(\n                &quot;https://tile.openstreetmap.org/{z}/{x}/{y}.png&quot;,\n                {&quot;attribution&quot;: &quot;\\u0026copy; \\u003ca href=\\&quot;https://www.openstreetmap.org/copyright\\&quot;\\u003eOpenStreetMap\\u003c/a\\u003e contributors&quot;, &quot;detectRetina&quot;: false, &quot;maxNativeZoom&quot;: 19, &quot;maxZoom&quot;: 19, &quot;minZoom&quot;: 0, &quot;noWrap&quot;: false, &quot;opacity&quot;: 1, &quot;subdomains&quot;: &quot;abc&quot;, &quot;tms&quot;: false}\n            );\n        \n    \n            tile_layer_807e2088a21139d7ec49b03f1efcb658.addTo(map_5512e0e77e6f6d41f7d95c771ec91da8);\n        \n&lt;/script&gt;\n&lt;/html&gt;\" style=\"position:absolute;width:100%;height:100%;left:0;top:0;border:none !important;\" allowfullscreen webkitallowfullscreen mozallowfullscreen></iframe></div></div>",
            "text/plain": "<folium.folium.Map at 0x7ac3a28>"
          },
          "metadata": {}
        }
      ],
      "execution_count": 6
    },
    {
      "id": "60f2b9df-4504-467b-895c-017a054af378",
      "cell_type": "markdown",
      "source": "## Rich styling used MyST syntax\n\n\n```{note}\nIf this is nicely styled as a \"Note\" with a blue banner, you do have the ncessary extension installed.\n```\n\nIf you install the `jupyterlab-myst` extension [[docs](https://jupyter-book.github.io/jupyterlab-myst/), [repo](https://github.com/jupyter-book/jupyterlab-myst)] you can make use of richly styled admontion blocks within markdown cells.\n\n*Double click on this markdown cell to enter edit mode and see how the styled blocks are defined.*\n\n\n```{danger}\nBeware of whatever...\n```",
      "metadata": {}
    },
    {
      "id": "124ab045-6542-41c9-b553-ea685f1cdce8",
      "cell_type": "markdown",
      "source": "The admonition blocks also take a `:class: dropdown` attrinbute that allows you to define collapsible blocks that are collapsed by default:\n\n````{admonition} Learn more - click me...\n:class: dropdown seealso\n\nLearn more stuff here...\n\n```python\n# we can style non-executable code\n# in markdown code blocks etc.\n\nprint(\"you can't execute me here...\")\n\n```\n\nAlthough the code is not executable inline here (it;s just rendered markdown, the code is copyable, so you can then paste it into a code cell and execute it there.\n````",
      "metadata": {}
    },
    {
      "id": "07d24944-7fde-44a7-815b-5ff33144e2cf",
      "cell_type": "markdown",
      "source": "### `sphinx-exercise` syntax\n\nIf you have the `jupyterlab-myst` extension installed, you can use `sphinx-exercise` syntax.\n\nThis offers `exercise` and `solution` admonition blocks that internally support the `:class: dropdown` attribute for collapsing content within the admonition block.",
      "metadata": {}
    },
    {
      "id": "f89bc7fd-33af-4ccc-850d-476f819a853d",
      "cell_type": "markdown",
      "source": "````{exercise} An example exercise\n:label: example1\n\nPlace your text inside the exercise admonition block.\n\nStyled code can be included but is not executable.\n\n```python\ndef myfunction():\n  # your code here\n```\n````",
      "metadata": {}
    },
    {
      "id": "2c02b15e-483d-43b5-9d4c-a94e805ba6cb",
      "cell_type": "code",
      "source": "# Your code here\n# This is after the markdown cell containing the exrcise admonition block.",
      "metadata": {
        "trusted": true,
        "tags": [
          "style-learner"
        ],
        "execution": {
          "iopub.status.busy": "2024-09-09T17:58:51.418000Z",
          "iopub.execute_input": "2024-09-09T17:58:51.421000Z",
          "iopub.status.idle": "2024-09-09T17:58:51.444000Z",
          "shell.execute_reply.started": "2024-09-09T17:58:51.441000Z",
          "shell.execute_reply": "2024-09-09T17:58:51.441000Z"
        }
      },
      "outputs": [],
      "execution_count": 5
    },
    {
      "id": "975d54d7-d3fe-482b-873c-b93cb3a198bd",
      "cell_type": "markdown",
      "source": "The solution block then follows and should share the same `label` reference. *(This has no effect in notebooks but does have a wider effect if you are rendering HTML books etc. from the notebooks.)*\n\nIf the solution block has a `:class: dropdown` attribute, it will be displayed in a collapsed mode. Click on the following solution header to display an answer.",
      "metadata": {
        "execution": {
          "iopub.status.busy": "2024-09-09T17:53:57.92000Z",
          "iopub.execute_input": "2024-09-09T17:53:57.96000Z",
          "iopub.status.idle": "2024-09-09T17:53:57.176000Z",
          "shell.execute_reply.started": "2024-09-09T17:53:57.175000Z",
          "shell.execute_reply": "2024-09-09T17:53:57.175000Z"
        }
      }
    },
    {
      "id": "898ae082-4855-480e-8ea1-ce4f09e961c9",
      "cell_type": "markdown",
      "source": "````{solution} An example exercise solution\n:label: example1\n:class: dropdown\n\nHere is the solution\n\n```python\n```python\ndef myfunction():\n  print(\"hello world\")\n```\n````\n",
      "metadata": {
        "tags": []
      }
    },
    {
      "id": "ca364095-f212-4ca2-b49f-06a63c747d72",
      "cell_type": "markdown",
      "source": "There are also gated exercises that do allow a combination of cells inside. This simply offers convenience of styling. Here the admonition blocks are simply used to return a styled block to act as style based wrappers around other markdown and/or code cells.",
      "metadata": {}
    },
    {
      "id": "df414b3c-a4b6-4f9f-96a6-e58c1a945f5c",
      "cell_type": "markdown",
      "source": "```{exercise-start} My gated exercise\n:label: gated-exercise\n```",
      "metadata": {
        "tags": [
          "style-activity"
        ]
      }
    },
    {
      "id": "45b1e7b2-c0c7-459e-9390-717b03507fb3",
      "cell_type": "markdown",
      "source": "Some text",
      "metadata": {
        "tags": [
          "style-activity"
        ]
      }
    },
    {
      "id": "5f1a0d68-22a0-4099-8b2e-db4afe7e41d7",
      "cell_type": "code",
      "source": "# some code that IS executable",
      "metadata": {
        "trusted": true,
        "execution": {
          "iopub.status.busy": "2024-09-09T17:50:16.739000Z",
          "iopub.execute_input": "2024-09-09T17:50:16.744000Z",
          "iopub.status.idle": "2024-09-09T17:50:16.752000Z",
          "shell.execute_reply.started": "2024-09-09T17:50:16.751000Z",
          "shell.execute_reply": "2024-09-09T17:50:16.751000Z"
        },
        "tags": [
          "style-activity"
        ]
      },
      "outputs": [],
      "execution_count": 2
    },
    {
      "id": "a7f49ffa-f26c-452f-b8c8-74039e0fb138",
      "cell_type": "markdown",
      "source": "```{exercise-end}\n:label: gated-exercise\n```",
      "metadata": {
        "tags": [
          "style-activity"
        ]
      }
    },
    {
      "id": "f8c153e3-da3d-4b82-9172-7cb74002599a",
      "cell_type": "markdown",
      "source": "```{solution-start} My gated exercise\n:label: gated-exercise\n```",
      "metadata": {
        "tags": [
          "style-solution"
        ]
      }
    },
    {
      "id": "967e4792-6b2c-40fc-9a4b-9b3e459e69e2",
      "cell_type": "code",
      "source": "# this is what your code should have looked like",
      "metadata": {
        "trusted": true,
        "execution": {
          "iopub.status.busy": "2024-09-09T17:51:28.307000Z",
          "iopub.execute_input": "2024-09-09T17:51:28.309000Z",
          "iopub.status.idle": "2024-09-09T17:51:28.326000Z",
          "shell.execute_reply.started": "2024-09-09T17:51:28.317000Z",
          "shell.execute_reply": "2024-09-09T17:51:28.317000Z"
        },
        "tags": [
          "style-solution"
        ]
      },
      "outputs": [],
      "execution_count": 3
    },
    {
      "id": "a6df8d03-550b-4df5-a155-459cb025fa49",
      "cell_type": "markdown",
      "source": "This follows on from the exercise...\n\nThe solution end block is just a weakly style thing...\n\n```{solution-end}\n:label: gated-exercise\n```",
      "metadata": {
        "tags": [
          "style-solution"
        ]
      }
    },
    {
      "id": "e2d86589-ac52-41d6-bddc-4fb3736a3489",
      "cell_type": "markdown",
      "source": "The above examples also show how empinkened style colouring can be added to gated `sphinx-exercise` cells to furhter distinguish them.",
      "metadata": {}
    },
    {
      "id": "3afef29a-a9ef-470e-af12-b86e2913e036",
      "cell_type": "markdown",
      "source": "## MORE EXAMPLES TO COME\n\n...",
      "metadata": {}
    }
  ]
}